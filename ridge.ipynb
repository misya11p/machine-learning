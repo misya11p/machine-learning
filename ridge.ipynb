{
 "cells": [
  {
   "cell_type": "markdown",
   "metadata": {},
   "source": [
    "# Ridge回帰\n",
    "\n",
    "正則化項にパラメータの二乗和を用いた線形回帰モデル。L2正則化とも呼ばれる。Ridgeの読み方はリッジ。"
   ]
  },
  {
   "cell_type": "code",
   "execution_count": 1,
   "metadata": {},
   "outputs": [],
   "source": [
    "import numpy as np\n",
    "import matplotlib.pyplot as plt\n",
    "from sklearn.model_selection import train_test_split\n",
    "from sklearn.preprocessing import PolynomialFeatures\n",
    "from sklearn.pipeline import Pipeline\n",
    "from sklearn.metrics import r2_score\n",
    "np.random.seed(11)\n",
    "\n",
    "x_range = (-1, 2.5)\n",
    "def get_samples(n):\n",
    "    x = np.random.uniform(*x_range, n)\n",
    "    y = np.sin(x) + 0.2 * np.random.randn(n)\n",
    "    return x.reshape(-1, 1), y\n",
    "\n",
    "def evaluate(model, X_train, X_test, y_train, y_test):\n",
    "    score_train = r2_score(y_train, model.predict(X_train))\n",
    "    score_test = r2_score(y_test, model.predict(X_test))\n",
    "    print(f\"score (train): {score_train:.2f}\")\n",
    "    print(f\"score (test): {score_test:.2f}\")\n",
    "\n",
    "    x_axis = np.linspace(*x_range, 100).reshape(-1, 1)\n",
    "    y_pred = model.predict(x_axis)\n",
    "    plt.scatter(X_train, y_train, label=\"train\")\n",
    "    plt.scatter(X_test, y_test, label=\"test\")\n",
    "    plt.plot(x_axis, y_pred, color=\"red\", label=\"trained model\")\n",
    "    plt.ylim(-2, 2)\n",
    "    plt.legend()"
   ]
  },
  {
   "cell_type": "markdown",
   "metadata": {},
   "source": [
    "Ridge回帰では、パラメータの二乗和がモデルの複雑さを表すと仮定する。\n",
    "\n",
    "$$\n",
    "\\begin{align}\n",
    "R(\\bm\\theta) &= \\sum_{i=1}^m \\theta_i^2 = \\|\\bm\\theta\\|_2^2 \\\\\n",
    "\\bm\\theta&\\in\\mathbb{R}^m\n",
    "\\end{align}\n",
    "$$\n",
    "\n",
    "目的関数は以下のようになる。\n",
    "\n",
    "$$\n",
    "\\begin{align}\n",
    "J(\\bm w)\n",
    "    &= \\| \\bm y - \\bm X \\bm w \\|_2^2 + \\alpha R(\\bm w) \\\\\n",
    "    &= \\| \\bm y - \\bm X \\bm w \\|_2^2 + \\alpha \\| \\bm w \\|_2^2 \\\\\n",
    "\\end{align}\n",
    "$$\n",
    "\n",
    "これを解く。"
   ]
  },
  {
   "cell_type": "markdown",
   "metadata": {},
   "source": [
    "解き方は同じで、微分して0になる点を求めるだけ。\n",
    "\n",
    "一つ目の項の微分は前章で求めているので、そこに正則化項の微分を足す。\n",
    "\n",
    "$$\n",
    "\\begin{align}\n",
    "\\frac{\\partial J}{\\partial \\bm w}\n",
    "\t&= -2X^T\\bm y + 2X^TX\\bm w + \\frac{\\partial}{\\partial \\bm w}\\alpha\\|\\bm w\\|_2^2 \\\\\n",
    "\t&= -2X^T\\bm y + 2X^TX\\bm w + 2\\alpha\\bm w\n",
    "\\end{align}\n",
    "$$\n",
    "\n",
    "これが0になる点を求める。\n",
    "\n",
    "$$\n",
    "\\begin{align}\n",
    "-2X^T\\bm y + 2X^TX\\bm w + 2\\alpha\\bm w &= 0 \\\\\n",
    "X^TX\\bm w + \\alpha\\bm w &= X^T\\bm y \\\\\n",
    "X^TX\\bm w + \\alpha I\\bm w &= X^T\\bm y \\\\\n",
    "(X^TX\\bm + \\alpha I)\\bm w &= X^T\\bm y \\\\\n",
    "\\bm w &= (X^TX + \\alpha I)^{-1}X^T\\bm y\n",
    "\\end{align}\n",
    "$$\n",
    "\n",
    "おわり。$\\alpha I$が足されただけ。$I$は単位行列。"
   ]
  },
  {
   "cell_type": "markdown",
   "metadata": {},
   "source": [
    "実装してみる。"
   ]
  },
  {
   "cell_type": "code",
   "execution_count": 2,
   "metadata": {},
   "outputs": [],
   "source": [
    "class RidgeRegression:\n",
    "    def __init__(self, alpha=1.):\n",
    "        self.alpha = alpha\n",
    "        self.weights = None\n",
    "\n",
    "    def fit(self, X, y):\n",
    "        X = np.insert(X, 0, 1, axis=1)\n",
    "        I = np.identity(X.shape[1], dtype=np.float32)\n",
    "        I[0, 0] = 0 # バイアス項は無視\n",
    "        self.weights = np.linalg.inv(X.T @ X + self.alpha*I) @ X.T @ y\n",
    "\n",
    "    def predict(self, X):\n",
    "        X = np.insert(X, 0, 1, axis=1)\n",
    "        return X @ self.weights"
   ]
  },
  {
   "cell_type": "markdown",
   "metadata": {},
   "source": [
    "バイアスに当たる$w_0$は正則化しない。しても過学習の抑制につながらないため。\n",
    "\n",
    "$\\alpha I$の$w_0$に対応する部分を0にすることで$w_0$については通常の線形回帰と同じ値になるため、正則化をしないことと同じ意味になる。"
   ]
  },
  {
   "cell_type": "markdown",
   "metadata": {},
   "source": [
    "これを学習させてみる。"
   ]
  },
  {
   "cell_type": "code",
   "execution_count": 3,
   "metadata": {},
   "outputs": [
    {
     "name": "stdout",
     "output_type": "stream",
     "text": [
      "score (train): 0.96\n",
      "score (test): 0.80\n"
     ]
    },
    {
     "data": {
      "image/png": "[encoded data removed]",
      "text/plain": [
       "<Figure size 640x480 with 1 Axes>"
      ]
     },
     "metadata": {},
     "output_type": "display_data"
    }
   ],
   "source": [
    "X, y = get_samples(20)\n",
    "X_train, X_test, y_train, y_test = train_test_split(\n",
    "    X, y, test_size=0.5, random_state=11\n",
    ")\n",
    "poly = PolynomialFeatures(degree=10, include_bias=False)\n",
    "model = RidgeRegression(alpha=1.)\n",
    "pipeline = Pipeline([(\"poly\", poly), (\"model\", model)])\n",
    "pipeline.fit(X_train, y_train)\n",
    "evaluate(pipeline, X_train, X_test, y_train, y_test)"
   ]
  },
  {
   "cell_type": "markdown",
   "metadata": {},
   "source": [
    "先ほどは過学習を起こしていた場面（少ないデータ&複雑なモデル）だが、正則化によって過学習が抑制された。\n",
    "\n",
    "sklearnの結果とも一致している。"
   ]
  },
  {
   "cell_type": "code",
   "execution_count": 4,
   "metadata": {},
   "outputs": [
    {
     "data": {
      "text/plain": [
       "(-0.056882393717984966,\n",
       " array([ 0.40124286,  0.00346738,  0.17651165, -0.02504002,  0.06774456,\n",
       "        -0.0566288 ,  0.01344915, -0.05335136,  0.04055918, -0.00801199]))"
      ]
     },
     "execution_count": 4,
     "metadata": {},
     "output_type": "execute_result"
    }
   ],
   "source": [
    "model.weights[0], model.weights[1:]"
   ]
  },
  {
   "cell_type": "code",
   "execution_count": 5,
   "metadata": {},
   "outputs": [
    {
     "data": {
      "text/plain": [
       "(-0.05688239362246052,\n",
       " array([ 0.40124286,  0.00346738,  0.17651165, -0.02504002,  0.06774456,\n",
       "        -0.0566288 ,  0.01344915, -0.05335136,  0.04055918, -0.00801199]))"
      ]
     },
     "execution_count": 5,
     "metadata": {},
     "output_type": "execute_result"
    }
   ],
   "source": [
    "from sklearn.linear_model import Ridge\n",
    "correct_model = Ridge(alpha=1.)\n",
    "pipeline = Pipeline([(\"poly\", poly), (\"model\", correct_model)])\n",
    "pipeline.fit(X_train, y_train)\n",
    "pipeline[\"model\"].intercept_, pipeline[\"model\"].coef_"
   ]
  }
 ],
 "metadata": {
  "kernelspec": {
   "display_name": "all",
   "language": "python",
   "name": "python3"
  },
  "language_info": {
   "codemirror_mode": {
    "name": "ipython",
    "version": 3
   },
   "file_extension": ".py",
   "mimetype": "text/x-python",
   "name": "python",
   "nbconvert_exporter": "python",
   "pygments_lexer": "ipython3",
   "version": "3.11.4"
  }
 },
 "nbformat": 4,
 "nbformat_minor": 2
}
