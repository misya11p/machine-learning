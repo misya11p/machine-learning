{
 "cells": [
  {
   "cell_type": "markdown",
   "metadata": {},
   "source": [
    "# 正則化\n",
    "\n",
    "*Regularization*\n",
    "\n"
   ]
  },
  {
   "cell_type": "code",
   "execution_count": 1,
   "metadata": {},
   "outputs": [],
   "source": [
    "import numpy as np\n",
    "import matplotlib.pyplot as plt"
   ]
  },
  {
   "cell_type": "markdown",
   "metadata": {},
   "source": [
    "## Ridge回帰"
   ]
  },
  {
   "cell_type": "code",
   "execution_count": 2,
   "metadata": {},
   "outputs": [],
   "source": [
    "from sklearn.datasets import load_diabetes\n",
    "from sklearn.preprocessing import StandardScaler\n",
    "from sklearn.metrics import mean_squared_error\n",
    "scaler = StandardScaler()\n",
    "X, y = load_diabetes(return_X_y=True)\n",
    "X = scaler.fit_transform(X)"
   ]
  },
  {
   "cell_type": "code",
   "execution_count": 3,
   "metadata": {},
   "outputs": [],
   "source": [
    "class RidgeRegression:\n",
    "    def __init__(self, alpha=1.):\n",
    "        self.alpha = alpha\n",
    "        self.weights = None\n",
    "\n",
    "    def fit(self, X, y):\n",
    "        X = np.insert(X, 0, 1, axis=1)\n",
    "        I = np.identity(X.shape[1], dtype=np.float32)\n",
    "        I[0, 0] = 0 # バイアス項は無視\n",
    "        self.weights = np.linalg.inv(X.T @ X + self.alpha*I) @ X.T @ y\n",
    "\n",
    "    def predict(self, X):\n",
    "        X = np.insert(X, 0, 1, axis=1)\n",
    "        return X @ self.weights"
   ]
  },
  {
   "cell_type": "code",
   "execution_count": 4,
   "metadata": {},
   "outputs": [
    {
     "name": "stdout",
     "output_type": "stream",
     "text": [
      "2872.2027699648543\n"
     ]
    },
    {
     "data": {
      "text/plain": [
       "array([152.13348416,  -0.257949  , -10.93635667,  24.60009446,\n",
       "        15.09438258, -11.29561827,   1.80876776,  -6.56180515,\n",
       "         5.6004003 ,  25.33209609,   3.52291212])"
      ]
     },
     "execution_count": 4,
     "metadata": {},
     "output_type": "execute_result"
    }
   ],
   "source": [
    "model = RidgeRegression(10)\n",
    "model.fit(X, y)\n",
    "y_pred = model.predict(X)\n",
    "print(mean_squared_error(y, y_pred))\n",
    "model.weights"
   ]
  },
  {
   "cell_type": "code",
   "execution_count": 5,
   "metadata": {},
   "outputs": [
    {
     "name": "stdout",
     "output_type": "stream",
     "text": [
      "2872.2027699648543\n"
     ]
    },
    {
     "data": {
      "text/plain": [
       "array([ -0.257949  , -10.93635667,  24.60009446,  15.09438258,\n",
       "       -11.29561827,   1.80876776,  -6.56180515,   5.6004003 ,\n",
       "        25.33209609,   3.52291212])"
      ]
     },
     "execution_count": 5,
     "metadata": {},
     "output_type": "execute_result"
    }
   ],
   "source": [
    "from sklearn.linear_model import Ridge\n",
    "correct_model = Ridge(alpha=10.)\n",
    "correct_model.fit(X, y)\n",
    "y_pred = correct_model.predict(X)\n",
    "print(mean_squared_error(y, y_pred))\n",
    "correct_model.coef_"
   ]
  },
  {
   "cell_type": "code",
   "execution_count": 6,
   "metadata": {},
   "outputs": [
    {
     "data": {
      "text/plain": [
       "152.13348416289594"
      ]
     },
     "execution_count": 6,
     "metadata": {},
     "output_type": "execute_result"
    }
   ],
   "source": [
    "correct_model.intercept_"
   ]
  },
  {
   "cell_type": "markdown",
   "metadata": {},
   "source": [
    "## Lasso回帰"
   ]
  },
  {
   "cell_type": "code",
   "execution_count": 7,
   "metadata": {},
   "outputs": [],
   "source": [
    "# x = np.linspace(-2, 5, 100)\n",
    "# y = (5 - x) ** 2 + 5 * np.abs(x)\n",
    "# plt.plot(x, y)"
   ]
  },
  {
   "cell_type": "code",
   "execution_count": 16,
   "metadata": {},
   "outputs": [],
   "source": [
    "class LassoRegression:\n",
    "    def __init__(self, alpha: float = 1., max_iter: int = 1000):\n",
    "        self.alpha = alpha\n",
    "        self.max_iter = max_iter\n",
    "        self.weights = None\n",
    "\n",
    "    @staticmethod\n",
    "    def soft_threshold(x, thre):\n",
    "        if x > thre:\n",
    "            return x - thre\n",
    "        elif x < -thre:\n",
    "            return x + thre\n",
    "        else:\n",
    "            return 0\n",
    "\n",
    "    def fit(self, X, y):\n",
    "        # X = np.insert(X, 0, 1, axis=1)\n",
    "        n_features = X.shape[1]\n",
    "        self.weights = np.zeros(n_features)\n",
    "        for _ in range(self.max_iter):\n",
    "            for i in range(n_features):\n",
    "                weights = self.weights.copy()\n",
    "                weights[i] = 0\n",
    "                r = y - X @ weights\n",
    "                c = X[:, i] @ r\n",
    "                a = np.linalg.norm(X[:, i]) ** 2\n",
    "                self.weights[i] = self.soft_threshold(c / a, self.alpha)\n",
    "\n",
    "    def predict(self, X):\n",
    "        # X = np.insert(X, 0, 1, axis=1)\n",
    "        return X @ self.weights"
   ]
  },
  {
   "cell_type": "code",
   "execution_count": 18,
   "metadata": {},
   "outputs": [
    {
     "name": "stdout",
     "output_type": "stream",
     "text": [
      "26030.765777093777\n"
     ]
    },
    {
     "data": {
      "text/plain": [
       "array([  0.        ,  -9.31932954,  24.83150373,  14.08898551,\n",
       "        -4.83894619,   0.        , -10.6227563 ,   0.        ,\n",
       "        24.4209334 ,   2.56187551])"
      ]
     },
     "execution_count": 18,
     "metadata": {},
     "output_type": "execute_result"
    }
   ],
   "source": [
    "model = LassoRegression(1.)\n",
    "model.fit(X, y)\n",
    "y_pred = model.predict(X)\n",
    "print(mean_squared_error(y, y_pred))\n",
    "model.weights"
   ]
  },
  {
   "cell_type": "code",
   "execution_count": 10,
   "metadata": {},
   "outputs": [],
   "source": [
    "from sklearn.linear_model import Lasso"
   ]
  },
  {
   "cell_type": "code",
   "execution_count": 19,
   "metadata": {},
   "outputs": [
    {
     "name": "stdout",
     "output_type": "stream",
     "text": [
      "26030.76631319103\n"
     ]
    },
    {
     "data": {
      "text/plain": [
       "array([ -0.        ,  -9.31941253,  24.83127631,  14.08870568,\n",
       "        -4.83892808,  -0.        , -10.62279919,   0.        ,\n",
       "        24.42081057,   2.56212987])"
      ]
     },
     "execution_count": 19,
     "metadata": {},
     "output_type": "execute_result"
    }
   ],
   "source": [
    "correct_model = Lasso(alpha=1., fit_intercept=False)\n",
    "correct_model.fit(X, y)\n",
    "y_pred = correct_model.predict(X)\n",
    "print(mean_squared_error(y, y_pred))\n",
    "correct_model.coef_"
   ]
  },
  {
   "cell_type": "code",
   "execution_count": null,
   "metadata": {},
   "outputs": [],
   "source": []
  }
 ],
 "metadata": {
  "kernelspec": {
   "display_name": "all",
   "language": "python",
   "name": "python3"
  },
  "language_info": {
   "codemirror_mode": {
    "name": "ipython",
    "version": 3
   },
   "file_extension": ".py",
   "mimetype": "text/x-python",
   "name": "python",
   "nbconvert_exporter": "python",
   "pygments_lexer": "ipython3",
   "version": "3.11.4"
  }
 },
 "nbformat": 4,
 "nbformat_minor": 2
}
