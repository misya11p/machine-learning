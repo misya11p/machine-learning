{
 "cells": [
  {
   "cell_type": "markdown",
   "metadata": {},
   "source": [
    "# 過学習\n",
    "\n",
    "学習済みモデルの評価や過学習という課題、そしてその対策について。"
   ]
  },
  {
   "cell_type": "markdown",
   "metadata": {},
   "source": [
    "\n",
    "---\n",
    "\n",
    "## モデルの評価\n",
    "\n",
    "学習済みモデルをどう評価しようかという話。"
   ]
  },
  {
   "cell_type": "markdown",
   "metadata": {},
   "source": [
    "基本的にはモデルの予測値が正解とどれだけ近いかを評価する。その評価指標は色々あり、例えば回帰だったら平均二乗誤差とか、それを正規化した決定係数とか、また分類だったら正解率とか。"
   ]
  },
  {
   "cell_type": "markdown",
   "metadata": {},
   "source": [
    "これらの指標を求めるためにはモデルへの入力と正解が適当な数必要になるが、それらはどこから得ると良いだろう。学習させたデータから適当に持ってくると良いと思うかもしれないが、それではモデルの**汎化性能**を測れない。学習時にモデルが見なかった「未知のデータ」に対してどのようなパフォーマンスを発揮するかが測れない。\n",
    "\n",
    "そこで、評価指標の算出には学習時に使わなかったデータを用いるようにする。用意したデータの一部は学習に使用せず残しておき、学習後にそのデータを使って評価指標を算出する。学習に使用するデータは**訓練データ**、評価に使用するデータは**テストデータ**と呼ぶ。"
   ]
  },
  {
   "cell_type": "markdown",
   "metadata": {},
   "source": [
    "やってみよう。"
   ]
  },
  {
   "cell_type": "code",
   "execution_count": 1,
   "metadata": {},
   "outputs": [],
   "source": [
    "# サンプルデータの読み込み\n",
    "from sklearn.datasets import load_diabetes\n",
    "X, y = load_diabetes(return_X_y=True)"
   ]
  },
  {
   "cell_type": "markdown",
   "metadata": {},
   "source": [
    "これを訓練データとテストデータに分ける。"
   ]
  },
  {
   "cell_type": "code",
   "execution_count": 2,
   "metadata": {},
   "outputs": [
    {
     "data": {
      "text/plain": [
       "(331, 111)"
      ]
     },
     "execution_count": 2,
     "metadata": {},
     "output_type": "execute_result"
    }
   ],
   "source": [
    "from sklearn.model_selection import train_test_split\n",
    "X_train, X_test, y_train, y_test = train_test_split(X, y)\n",
    "len(X_train), len(X_test)"
   ]
  },
  {
   "cell_type": "markdown",
   "metadata": {},
   "source": [
    "ランダムで3:1に分けられた。ここから訓練データ（`X_train, y_train`）を学習させ、テストデータ（`X_test, y_test`）で評価する。"
   ]
  },
  {
   "cell_type": "code",
   "execution_count": 3,
   "metadata": {},
   "outputs": [
    {
     "data": {
      "text/plain": [
       "0.5885867966200098"
      ]
     },
     "execution_count": 3,
     "metadata": {},
     "output_type": "execute_result"
    }
   ],
   "source": [
    "from sklearn.linear_model import LinearRegression\n",
    "model = LinearRegression()\n",
    "model.fit(X_train, y_train)\n",
    "model.score(X_test, y_test) # 決定係数"
   ]
  },
  {
   "cell_type": "markdown",
   "metadata": {},
   "source": [
    "これで汎化性能を考慮した評価ができた。"
   ]
  }
 ],
 "metadata": {
  "kernelspec": {
   "display_name": "all",
   "language": "python",
   "name": "python3"
  },
  "language_info": {
   "codemirror_mode": {
    "name": "ipython",
    "version": 3
   },
   "file_extension": ".py",
   "mimetype": "text/x-python",
   "name": "python",
   "nbconvert_exporter": "python",
   "pygments_lexer": "ipython3",
   "version": "3.11.4"
  }
 },
 "nbformat": 4,
 "nbformat_minor": 2
}
